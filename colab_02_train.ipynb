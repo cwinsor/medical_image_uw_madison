{
  "nbformat": 4,
  "nbformat_minor": 0,
  "metadata": {
    "colab": {
      "provenance": [],
      "authorship_tag": "ABX9TyPA7V2bpS63GVpj58WYOSNq",
      "include_colab_link": true
    },
    "kernelspec": {
      "name": "python3",
      "display_name": "Python 3"
    },
    "language_info": {
      "name": "python"
    }
  },
  "cells": [
    {
      "cell_type": "markdown",
      "metadata": {
        "id": "view-in-github",
        "colab_type": "text"
      },
      "source": [
        "<a href=\"https://colab.research.google.com/github/cwinsor/medical_image_uw_madison/blob/main/colab_02_train.ipynb\" target=\"_parent\"><img src=\"https://colab.research.google.com/assets/colab-badge.svg\" alt=\"Open In Colab\"/></a>"
      ]
    },
    {
      "cell_type": "code",
      "source": [
        "import sys\n",
        "import os"
      ],
      "metadata": {
        "id": "kxzfyBT42MJu"
      },
      "execution_count": 2,
      "outputs": []
    },
    {
      "cell_type": "code",
      "execution_count": 3,
      "metadata": {
        "id": "PzixNp9Sr_BQ"
      },
      "outputs": [],
      "source": [
        "assert ('google.colab' in sys.modules), \"ERROR - the script expects to be run in Colab\""
      ]
    },
    {
      "cell_type": "code",
      "source": [
        "# we persist code, dataset and runs on google drive...\n",
        "from google.colab import drive\n",
        "drive.mount('/content/gdrive')"
      ],
      "metadata": {
        "colab": {
          "base_uri": "https://localhost:8080/"
        },
        "id": "kyNdABfE1ut3",
        "outputId": "cf911059-58b7-4f88-a593-e3610561484e"
      },
      "execution_count": 4,
      "outputs": [
        {
          "output_type": "stream",
          "name": "stdout",
          "text": [
            "Mounted at /content/gdrive\n"
          ]
        }
      ]
    },
    {
      "cell_type": "code",
      "source": [
        "work_folder = '/content/gdrive/MyDrive/Colab_UW_Madison/medical_image_uw_madison/'\n",
        "os.chdir(work_folder)\n",
        "print(\"checking git status (git fetch --dry-run):\")\n",
        "!pwd\n",
        "!git fetch --dry-run"
      ],
      "metadata": {
        "colab": {
          "base_uri": "https://localhost:8080/"
        },
        "id": "MwCx0MLb2a5w",
        "outputId": "5a1a057a-1f6a-462d-df6c-39d45b03e0f7"
      },
      "execution_count": 35,
      "outputs": [
        {
          "output_type": "stream",
          "name": "stdout",
          "text": [
            "checking git status (git fetch --dry-run):\n",
            "/content/gdrive/MyDrive/Colab_UW_Madison/medical_image_uw_madison\n",
            "remote: Enumerating objects: 5, done.\u001b[K\n",
            "remote: Counting objects: 100% (5/5), done.\u001b[K\n",
            "remote: Compressing objects: 100% (3/3), done.\u001b[K\n",
            "remote: Total 3 (delta 2), reused 0 (delta 0), pack-reused 0\u001b[K\n",
            "Unpacking objects: 100% (3/3), 589 bytes | 15.00 KiB/s, done.\n",
            "From https://github.com/cwinsor/medical_image_uw_madison\n",
            "   51d8273..530ff1e  main       -> origin/main\n"
          ]
        }
      ]
    },
    {
      "cell_type": "code",
      "source": [],
      "metadata": {
        "id": "oUaCqA3xgflS"
      },
      "execution_count": null,
      "outputs": []
    },
    {
      "cell_type": "markdown",
      "source": [
        "## Comparing ***os.getenv('PATH')*** to ***sys.path***\n",
        "* the former is path for the environment shell (applications)\n",
        "* the latter is the python search path for modules. Importantly it is constructed when Python *IS STARTED* and is:\n",
        "  * the folder of the python interpreter\n",
        "  * installation-dependent standard folders\n",
        "  * the contents of PYTHONPATH\n",
        "  \n",
        "in other words... updating PYTHONPATH won't help inside a jupyter notebook!\n"
      ],
      "metadata": {
        "id": "U-cUpb3JgiiG"
      }
    },
    {
      "cell_type": "code",
      "source": [
        "paths = os.getenv('PATH')\n",
        "for p in paths.split(\":\"):\n",
        "    print(p)"
      ],
      "metadata": {
        "colab": {
          "base_uri": "https://localhost:8080/"
        },
        "id": "VdBM0XVWVkl6",
        "outputId": "d2130347-4a90-4e91-bfc9-2a03f129f713"
      },
      "execution_count": 21,
      "outputs": [
        {
          "output_type": "stream",
          "name": "stdout",
          "text": [
            "/opt/bin\n",
            "/usr/local/nvidia/bin\n",
            "/usr/local/cuda/bin\n",
            "/usr/local/sbin\n",
            "/usr/local/bin\n",
            "/usr/sbin\n",
            "/usr/bin\n",
            "/sbin\n",
            "/bin\n",
            "/tools/node/bin\n",
            "/tools/google-cloud-sdk/bin\n"
          ]
        }
      ]
    },
    {
      "cell_type": "code",
      "source": [
        "for p in sys.path:\n",
        "    print(p)"
      ],
      "metadata": {
        "colab": {
          "base_uri": "https://localhost:8080/"
        },
        "id": "B52hqywTX3Q1",
        "outputId": "f6886e43-b7cd-442f-95ed-ca1e59c245f9"
      },
      "execution_count": 30,
      "outputs": [
        {
          "output_type": "stream",
          "name": "stdout",
          "text": [
            "/content\n",
            "/env/python\n",
            "/usr/lib/python310.zip\n",
            "/usr/lib/python3.10\n",
            "/usr/lib/python3.10/lib-dynload\n",
            "\n",
            "/usr/local/lib/python3.10/dist-packages\n",
            "/usr/lib/python3/dist-packages\n",
            "/usr/local/lib/python3.10/dist-packages/IPython/extensions\n",
            "/root/.ipython\n",
            "foo\n"
          ]
        }
      ]
    },
    {
      "cell_type": "code",
      "source": [
        "THE_FOLDER = \"foo\"\n",
        "# THE_FOLDER = os.getcwd()\n",
        "\n",
        "if THE_FOLDER in sys.path:\n",
        "    print(\"already exists\")\n",
        "else:\n",
        "    sys.path.append(THE_FOLDER)\n",
        "    print(\"added\")"
      ],
      "metadata": {
        "colab": {
          "base_uri": "https://localhost:8080/"
        },
        "id": "VuvTVyhISc2E",
        "outputId": "3dbf9c20-cc39-46e7-9971-45d1e8eac458"
      },
      "execution_count": 29,
      "outputs": [
        {
          "output_type": "stream",
          "name": "stdout",
          "text": [
            "already exists\n"
          ]
        }
      ]
    },
    {
      "cell_type": "markdown",
      "source": [
        "# PyTorch Distributed...\n",
        "\n",
        "https://pytorch.org/docs/stable/distributed.html\n",
        "\n",
        "    How to use this module:\n",
        "\n",
        "    Single-Node multi-process distributed training\n",
        "\n",
        "    python -m torch.distributed.launch --nproc-per-node=NUM_GPUS_YOU_HAVE\n",
        "            YOUR_TRAINING_SCRIPT.py (--arg1 --arg2 --arg3 and all other\n",
        "            arguments of your training script)\n",
        "\n",
        "    Multi-Node multi-process distributed training: (e.g. two nodes)\n",
        "\n",
        "    Node 1: (IP: 192.168.1.1, and has a free port: 1234)\n",
        "    python -m torch.distributed.launch --nproc-per-node=NUM_GPUS_YOU_HAVE\n",
        "            --nnodes=2 --node-rank=0 --master-addr=\"192.168.1.1\"\n",
        "            --master-port=1234 YOUR_TRAINING_SCRIPT.py (--arg1 --arg2 --arg3\n",
        "            and all other arguments of your training script)\n",
        "\n",
        "    Node 2:\n",
        "    python -m torch.distributed.launch --nproc-per-node=NUM_GPUS_YOU_HAVE\n",
        "            --nnodes=2 --node-rank=1 --master-addr=\"192.168.1.1\"\n",
        "            --master-port=1234 YOUR_TRAINING_SCRIPT.py (--arg1 --arg2 --arg3\n",
        "            and all other arguments of your training script)\n"
      ],
      "metadata": {
        "id": "T56srWVM7CGk"
      }
    },
    {
      "cell_type": "markdown",
      "source": [
        "# Ours is single-node multi-GPU.\n",
        "So the shell command would be:\n",
        "\n",
        "    cd /content/gdrive/MyDrive/Colab_UW_Madison/medical_image_uw_madison/project/Kaggle-UMWGIT\n",
        "\n",
        "    CONFIG='work_configs/tract/final_solution/classification_configs/cls_1.py'\n",
        "    NUM_GPUS_PER_NODE=2\n",
        "    MASTER_PORT=1234\n",
        "    ARGS='foo=\"bar\" lala=\"foofoo\"'\n",
        "\n",
        "    python -m torch.distributed.launch --nproc-per-node=$NUM_GPUS_PER_NODE\n",
        "            tools/train.py $CONFIG --launcher pytorch $ARGS\n",
        "            "
      ],
      "metadata": {
        "id": "i7gS7KopA5h3"
      }
    },
    {
      "cell_type": "code",
      "source": [],
      "metadata": {
        "id": "vKHTFJNG3dZA"
      },
      "execution_count": null,
      "outputs": []
    },
    {
      "cell_type": "markdown",
      "source": [
        "# let's do that now..."
      ],
      "metadata": {
        "id": "enb2V0FeGHb9"
      }
    },
    {
      "cell_type": "code",
      "source": [
        "!pip install mmcv"
      ],
      "metadata": {
        "id": "dsdVCzoxLoGw",
        "outputId": "752a77dc-3745-4f92-8656-f0ddc890046d",
        "colab": {
          "base_uri": "https://localhost:8080/"
        }
      },
      "execution_count": null,
      "outputs": [
        {
          "output_type": "stream",
          "name": "stdout",
          "text": [
            "Collecting mmcv\n",
            "  Downloading mmcv-2.0.1.tar.gz (469 kB)\n",
            "\u001b[2K     \u001b[90m━━━━━━━━━━━━━━━━━━━━━━━━━━━━━━━━━━━━━━━\u001b[0m \u001b[32m469.5/469.5 kB\u001b[0m \u001b[31m7.8 MB/s\u001b[0m eta \u001b[36m0:00:00\u001b[0m\n",
            "\u001b[?25h  Preparing metadata (setup.py) ... \u001b[?25l\u001b[?25hdone\n",
            "Collecting addict (from mmcv)\n",
            "  Downloading addict-2.4.0-py3-none-any.whl (3.8 kB)\n",
            "Collecting mmengine>=0.3.0 (from mmcv)\n",
            "  Downloading mmengine-0.8.2-py3-none-any.whl (433 kB)\n",
            "\u001b[2K     \u001b[90m━━━━━━━━━━━━━━━━━━━━━━━━━━━━━━━━━━━━━━\u001b[0m \u001b[32m433.6/433.6 kB\u001b[0m \u001b[31m31.6 MB/s\u001b[0m eta \u001b[36m0:00:00\u001b[0m\n",
            "\u001b[?25hRequirement already satisfied: numpy in /usr/local/lib/python3.10/dist-packages (from mmcv) (1.22.4)\n",
            "Requirement already satisfied: packaging in /usr/local/lib/python3.10/dist-packages (from mmcv) (23.1)\n",
            "Requirement already satisfied: Pillow in /usr/local/lib/python3.10/dist-packages (from mmcv) (8.4.0)\n",
            "Requirement already satisfied: pyyaml in /usr/local/lib/python3.10/dist-packages (from mmcv) (6.0)\n",
            "Collecting yapf (from mmcv)\n",
            "  Downloading yapf-0.40.1-py3-none-any.whl (250 kB)\n",
            "\u001b[2K     \u001b[90m━━━━━━━━━━━━━━━━━━━━━━━━━━━━━━━━━━━━━━\u001b[0m \u001b[32m250.3/250.3 kB\u001b[0m \u001b[31m21.9 MB/s\u001b[0m eta \u001b[36m0:00:00\u001b[0m\n",
            "\u001b[?25hRequirement already satisfied: matplotlib in /usr/local/lib/python3.10/dist-packages (from mmengine>=0.3.0->mmcv) (3.7.1)\n",
            "Requirement already satisfied: rich in /usr/local/lib/python3.10/dist-packages (from mmengine>=0.3.0->mmcv) (13.4.2)\n",
            "Requirement already satisfied: termcolor in /usr/local/lib/python3.10/dist-packages (from mmengine>=0.3.0->mmcv) (2.3.0)\n",
            "Requirement already satisfied: opencv-python>=3 in /usr/local/lib/python3.10/dist-packages (from mmengine>=0.3.0->mmcv) (4.7.0.72)\n",
            "Collecting importlib-metadata>=6.6.0 (from yapf->mmcv)\n",
            "  Downloading importlib_metadata-6.8.0-py3-none-any.whl (22 kB)\n",
            "Requirement already satisfied: platformdirs>=3.5.1 in /usr/local/lib/python3.10/dist-packages (from yapf->mmcv) (3.8.1)\n",
            "Requirement already satisfied: tomli>=2.0.1 in /usr/local/lib/python3.10/dist-packages (from yapf->mmcv) (2.0.1)\n",
            "Requirement already satisfied: zipp>=0.5 in /usr/local/lib/python3.10/dist-packages (from importlib-metadata>=6.6.0->yapf->mmcv) (3.16.1)\n",
            "Requirement already satisfied: contourpy>=1.0.1 in /usr/local/lib/python3.10/dist-packages (from matplotlib->mmengine>=0.3.0->mmcv) (1.1.0)\n",
            "Requirement already satisfied: cycler>=0.10 in /usr/local/lib/python3.10/dist-packages (from matplotlib->mmengine>=0.3.0->mmcv) (0.11.0)\n",
            "Requirement already satisfied: fonttools>=4.22.0 in /usr/local/lib/python3.10/dist-packages (from matplotlib->mmengine>=0.3.0->mmcv) (4.41.0)\n",
            "Requirement already satisfied: kiwisolver>=1.0.1 in /usr/local/lib/python3.10/dist-packages (from matplotlib->mmengine>=0.3.0->mmcv) (1.4.4)\n",
            "Requirement already satisfied: pyparsing>=2.3.1 in /usr/local/lib/python3.10/dist-packages (from matplotlib->mmengine>=0.3.0->mmcv) (3.1.0)\n",
            "Requirement already satisfied: python-dateutil>=2.7 in /usr/local/lib/python3.10/dist-packages (from matplotlib->mmengine>=0.3.0->mmcv) (2.8.2)\n",
            "Requirement already satisfied: markdown-it-py>=2.2.0 in /usr/local/lib/python3.10/dist-packages (from rich->mmengine>=0.3.0->mmcv) (3.0.0)\n",
            "Requirement already satisfied: pygments<3.0.0,>=2.13.0 in /usr/local/lib/python3.10/dist-packages (from rich->mmengine>=0.3.0->mmcv) (2.14.0)\n",
            "Requirement already satisfied: mdurl~=0.1 in /usr/local/lib/python3.10/dist-packages (from markdown-it-py>=2.2.0->rich->mmengine>=0.3.0->mmcv) (0.1.2)\n",
            "Requirement already satisfied: six>=1.5 in /usr/local/lib/python3.10/dist-packages (from python-dateutil>=2.7->matplotlib->mmengine>=0.3.0->mmcv) (1.16.0)\n",
            "Building wheels for collected packages: mmcv\n"
          ]
        }
      ]
    },
    {
      "cell_type": "code",
      "source": [
        "run_folder = '/content/gdrive/MyDrive/Colab_UW_Madison/medical_image_uw_madison/project/Kaggle-UWMGIT'\n",
        "os.chdir(run_folder)\n",
        "!pwd"
      ],
      "metadata": {
        "id": "NqdJQ1P3GJ9o",
        "outputId": "921749d3-7c81-404f-a720-f1ab4b1c1766",
        "colab": {
          "base_uri": "https://localhost:8080/"
        }
      },
      "execution_count": 40,
      "outputs": [
        {
          "output_type": "stream",
          "name": "stdout",
          "text": [
            "/content/gdrive/MyDrive/Colab_UW_Madison/medical_image_uw_madison/project/Kaggle-UWMGIT\n"
          ]
        }
      ]
    },
    {
      "cell_type": "code",
      "source": [
        "CONFIG='work_configs/tract/final_solution/classification_configs/cls_1.py'\n",
        "NUM_GPUS_PER_NODE=1\n",
        "MASTER_PORT=1234\n",
        "ARGS='foo=\"bar\" lala=\"foofoo\"'"
      ],
      "metadata": {
        "id": "fGPgtudrJrhl"
      },
      "execution_count": 44,
      "outputs": []
    },
    {
      "cell_type": "code",
      "source": [
        "!python -m torch.distributed.launch --nproc-per-node=$NUM_GPUS_PER_NODE tools/train.py $CONFIG --launcher pytorch $ARGS"
      ],
      "metadata": {
        "id": "VcmbJhb5KssT",
        "outputId": "4b489263-30c8-4a54-9682-ecb0e99f4ef7",
        "colab": {
          "base_uri": "https://localhost:8080/"
        }
      },
      "execution_count": 45,
      "outputs": [
        {
          "output_type": "stream",
          "name": "stdout",
          "text": [
            "/usr/local/lib/python3.10/dist-packages/torch/distributed/launch.py:181: FutureWarning: The module torch.distributed.launch is deprecated\n",
            "and will be removed in future. Use torchrun.\n",
            "Note that --use-env is set by default in torchrun.\n",
            "If your script expects `--local-rank` argument to be set, please\n",
            "change it to read from `os.environ['LOCAL_RANK']` instead. See \n",
            "https://pytorch.org/docs/stable/distributed.html#launch-utility for \n",
            "further instructions\n",
            "\n",
            "  warnings.warn(\n",
            "Traceback (most recent call last):\n",
            "  File \"/content/gdrive/MyDrive/Colab_UW_Madison/medical_image_uw_madison/project/Kaggle-UWMGIT/tools/train.py\", line 9, in <module>\n",
            "    import mmcv\n",
            "ModuleNotFoundError: No module named 'mmcv'\n",
            "ERROR:torch.distributed.elastic.multiprocessing.api:failed (exitcode: 1) local_rank: 0 (pid: 57452) of binary: /usr/bin/python3\n",
            "Traceback (most recent call last):\n",
            "  File \"/usr/lib/python3.10/runpy.py\", line 196, in _run_module_as_main\n",
            "    return _run_code(code, main_globals, None,\n",
            "  File \"/usr/lib/python3.10/runpy.py\", line 86, in _run_code\n",
            "    exec(code, run_globals)\n",
            "  File \"/usr/local/lib/python3.10/dist-packages/torch/distributed/launch.py\", line 196, in <module>\n",
            "    main()\n",
            "  File \"/usr/local/lib/python3.10/dist-packages/torch/distributed/launch.py\", line 192, in main\n",
            "    launch(args)\n",
            "  File \"/usr/local/lib/python3.10/dist-packages/torch/distributed/launch.py\", line 177, in launch\n",
            "    run(args)\n",
            "  File \"/usr/local/lib/python3.10/dist-packages/torch/distributed/run.py\", line 785, in run\n",
            "    elastic_launch(\n",
            "  File \"/usr/local/lib/python3.10/dist-packages/torch/distributed/launcher/api.py\", line 134, in __call__\n",
            "    return launch_agent(self._config, self._entrypoint, list(args))\n",
            "  File \"/usr/local/lib/python3.10/dist-packages/torch/distributed/launcher/api.py\", line 250, in launch_agent\n",
            "    raise ChildFailedError(\n",
            "torch.distributed.elastic.multiprocessing.errors.ChildFailedError: \n",
            "============================================================\n",
            "tools/train.py FAILED\n",
            "------------------------------------------------------------\n",
            "Failures:\n",
            "  <NO_OTHER_FAILURES>\n",
            "------------------------------------------------------------\n",
            "Root Cause (first observed failure):\n",
            "[0]:\n",
            "  time      : 2023-07-21_15:59:22\n",
            "  host      : 136e2e6f7c21\n",
            "  rank      : 0 (local_rank: 0)\n",
            "  exitcode  : 1 (pid: 57452)\n",
            "  error_file: <N/A>\n",
            "  traceback : To enable traceback see: https://pytorch.org/docs/stable/elastic/errors.html\n",
            "============================================================\n"
          ]
        }
      ]
    },
    {
      "cell_type": "code",
      "source": [],
      "metadata": {
        "id": "BGLApDEGK_v3"
      },
      "execution_count": null,
      "outputs": []
    }
  ]
}