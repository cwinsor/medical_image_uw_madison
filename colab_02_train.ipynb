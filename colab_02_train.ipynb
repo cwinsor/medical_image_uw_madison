{
  "nbformat": 4,
  "nbformat_minor": 0,
  "metadata": {
    "colab": {
      "provenance": [],
      "authorship_tag": "ABX9TyPryB8Vf9BMWBaWM/nHSgF1",
      "include_colab_link": true
    },
    "kernelspec": {
      "name": "python3",
      "display_name": "Python 3"
    },
    "language_info": {
      "name": "python"
    }
  },
  "cells": [
    {
      "cell_type": "markdown",
      "metadata": {
        "id": "view-in-github",
        "colab_type": "text"
      },
      "source": [
        "<a href=\"https://colab.research.google.com/github/cwinsor/medical_image_uw_madison/blob/main/colab_02_train.ipynb\" target=\"_parent\"><img src=\"https://colab.research.google.com/assets/colab-badge.svg\" alt=\"Open In Colab\"/></a>"
      ]
    },
    {
      "cell_type": "code",
      "source": [
        "import sys\n",
        "import os"
      ],
      "metadata": {
        "id": "kxzfyBT42MJu"
      },
      "execution_count": 1,
      "outputs": []
    },
    {
      "cell_type": "code",
      "execution_count": 2,
      "metadata": {
        "id": "PzixNp9Sr_BQ"
      },
      "outputs": [],
      "source": [
        "assert ('google.colab' in sys.modules), \"ERROR - the script expects to be run in Colab\""
      ]
    },
    {
      "cell_type": "code",
      "source": [
        "# we persist code, dataset and runs on google drive...\n",
        "from google.colab import drive\n",
        "drive.mount('/content/gdrive')"
      ],
      "metadata": {
        "colab": {
          "base_uri": "https://localhost:8080/"
        },
        "id": "kyNdABfE1ut3",
        "outputId": "9a9358ae-836c-4a64-909b-63ec04e22ce2"
      },
      "execution_count": 3,
      "outputs": [
        {
          "output_type": "stream",
          "name": "stdout",
          "text": [
            "Mounted at /content/gdrive\n"
          ]
        }
      ]
    },
    {
      "cell_type": "code",
      "source": [
        "work_folder = '/content/gdrive/MyDrive/Colab_UW_Madison/medical_image_uw_madison/'\n",
        "os.chdir(work_folder)\n",
        "print(\"checking git status (git fetch --dry-run):\")\n",
        "!pwd\n",
        "!git fetch --dry-run"
      ],
      "metadata": {
        "colab": {
          "base_uri": "https://localhost:8080/"
        },
        "id": "MwCx0MLb2a5w",
        "outputId": "6effd4bb-7820-4ac9-ebfc-1ead9e1eca83"
      },
      "execution_count": 4,
      "outputs": [
        {
          "output_type": "stream",
          "name": "stdout",
          "text": [
            "checking git status (git fetch --dry-run):\n",
            "/content/gdrive/MyDrive/Colab_UW_Madison/medical_image_uw_madison\n",
            "remote: Enumerating objects: 23, done.\u001b[K\n",
            "remote: Counting objects: 100% (23/23), done.\u001b[K\n",
            "remote: Compressing objects: 100% (21/21), done.\u001b[K\n",
            "remote: Total 21 (delta 13), reused 0 (delta 0), pack-reused 0\u001b[K\n",
            "Unpacking objects: 100% (21/21), 262.44 KiB | 367.00 KiB/s, done.\n",
            "From https://github.com/cwinsor/medical_image_uw_madison\n",
            "   18a51f5..4418c42  main       -> origin/main\n"
          ]
        }
      ]
    },
    {
      "cell_type": "code",
      "source": [
        "try:\n",
        "    sys.path.index('/dir/path') # Or os.getcwd() for this directory\n",
        "except ValueError:\n",
        "    sys.path.append('/dir/path') # Or os.getcwd() for this directory\n",
        "\n",
        "!echo #PATH"
      ],
      "metadata": {
        "id": "VuvTVyhISc2E"
      },
      "execution_count": null,
      "outputs": []
    },
    {
      "cell_type": "code",
      "source": [
        "paths = os.getenv('PATH')\n",
        "print(type(paths))\n",
        "for p in paths.split(\":\"):\n",
        "    print(p)"
      ],
      "metadata": {
        "id": "b7boYfqtSiZQ",
        "outputId": "61d7ff41-48e0-4800-ea3c-6a35ae0cbf92",
        "colab": {
          "base_uri": "https://localhost:8080/"
        }
      },
      "execution_count": 16,
      "outputs": [
        {
          "output_type": "stream",
          "name": "stdout",
          "text": [
            "<class 'str'>\n",
            "/opt/bin\n",
            "/usr/local/nvidia/bin\n",
            "/usr/local/cuda/bin\n",
            "/usr/local/sbin\n",
            "/usr/local/bin\n",
            "/usr/sbin\n",
            "/usr/bin\n",
            "/sbin\n",
            "/bin\n",
            "/tools/node/bin\n",
            "/tools/google-cloud-sdk/bin\n"
          ]
        }
      ]
    },
    {
      "cell_type": "code",
      "source": [
        "THE_FOLDER = \"foo\"\n",
        "# THE_FOLDER = os.getcwd()\n",
        "\n",
        "try:\n",
        "    sys.path.index(THE_FOLDER)\n",
        "    print(\"already exists\")\n",
        "except ValueError:\n",
        "    sys.path.append(THE_FOLDER)\n",
        "    print(\"added\")"
      ],
      "metadata": {
        "id": "-ZYbmT64ThJb",
        "outputId": "a7fa7b59-d8b4-4b94-c9e4-e38b68afa8bc",
        "colab": {
          "base_uri": "https://localhost:8080/"
        }
      },
      "execution_count": 15,
      "outputs": [
        {
          "output_type": "stream",
          "name": "stdout",
          "text": [
            "already exists\n"
          ]
        }
      ]
    },
    {
      "cell_type": "code",
      "source": [
        "paths = os.getenv('PATH')\n",
        "print(type(paths))\n",
        "for p in paths.split(\":\"):\n",
        "    print(p)"
      ],
      "metadata": {
        "id": "vm-hbZ_XUf8w",
        "outputId": "dbcd1b36-a00b-4a6d-9112-a354d0acaaaf",
        "colab": {
          "base_uri": "https://localhost:8080/"
        }
      },
      "execution_count": 17,
      "outputs": [
        {
          "output_type": "stream",
          "name": "stdout",
          "text": [
            "<class 'str'>\n",
            "/opt/bin\n",
            "/usr/local/nvidia/bin\n",
            "/usr/local/cuda/bin\n",
            "/usr/local/sbin\n",
            "/usr/local/bin\n",
            "/usr/sbin\n",
            "/usr/bin\n",
            "/sbin\n",
            "/bin\n",
            "/tools/node/bin\n",
            "/tools/google-cloud-sdk/bin\n"
          ]
        }
      ]
    },
    {
      "cell_type": "code",
      "source": [
        "# train classification\n",
        "CONFIG = 'work_configs/tract/final_solution/classification_configs/cls_1.py'\n",
        "GPUS = 2\n",
        "PORT =\n",
        "\n",
        "PYTHONPATH=\"$(dirname $0)/..\":$PYTHONPATH \\\n",
        "\n",
        "python -m torch.distributed.launch --nproc_per_node=$GPUS --master_port=$PORT \\\n",
        "    $(dirname \"$0\")/train.py $CONFIG --launcher pytorch ${@:3}\n",
        "\n",
        "!"
      ],
      "metadata": {
        "id": "Iw9_r3StOe65"
      },
      "execution_count": null,
      "outputs": []
    },
    {
      "cell_type": "code",
      "source": [
        "# now... from bash shell (bottom left in colab notebook)\n",
        "# cd /content/gdrive/MyDrive/Colab_UW_Madison/medical_image_uw_madison/project\n",
        "# ./go_02_train.sh"
      ],
      "metadata": {
        "id": "dkQBtk0v10Ye"
      },
      "execution_count": 5,
      "outputs": []
    },
    {
      "cell_type": "code",
      "source": [],
      "metadata": {
        "id": "vKHTFJNG3dZA"
      },
      "execution_count": null,
      "outputs": []
    }
  ]
}