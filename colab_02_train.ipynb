{
  "nbformat": 4,
  "nbformat_minor": 0,
  "metadata": {
    "colab": {
      "provenance": [],
      "authorship_tag": "ABX9TyONoksGjg1dLnJ4is0cUeEY",
      "include_colab_link": true
    },
    "kernelspec": {
      "name": "python3",
      "display_name": "Python 3"
    },
    "language_info": {
      "name": "python"
    }
  },
  "cells": [
    {
      "cell_type": "markdown",
      "metadata": {
        "id": "view-in-github",
        "colab_type": "text"
      },
      "source": [
        "<a href=\"https://colab.research.google.com/github/cwinsor/medical_image_uw_madison/blob/main/colab_02_train.ipynb\" target=\"_parent\"><img src=\"https://colab.research.google.com/assets/colab-badge.svg\" alt=\"Open In Colab\"/></a>"
      ]
    },
    {
      "cell_type": "code",
      "source": [
        "import sys\n",
        "import os"
      ],
      "metadata": {
        "id": "kxzfyBT42MJu"
      },
      "execution_count": 2,
      "outputs": []
    },
    {
      "cell_type": "code",
      "execution_count": 3,
      "metadata": {
        "id": "PzixNp9Sr_BQ"
      },
      "outputs": [],
      "source": [
        "assert ('google.colab' in sys.modules), \"ERROR - the script expects to be run in Colab\""
      ]
    },
    {
      "cell_type": "code",
      "source": [
        "# we persist code, dataset and runs on google drive...\n",
        "from google.colab import drive\n",
        "drive.mount('/content/gdrive')"
      ],
      "metadata": {
        "colab": {
          "base_uri": "https://localhost:8080/"
        },
        "id": "kyNdABfE1ut3",
        "outputId": "cf911059-58b7-4f88-a593-e3610561484e"
      },
      "execution_count": 4,
      "outputs": [
        {
          "output_type": "stream",
          "name": "stdout",
          "text": [
            "Mounted at /content/gdrive\n"
          ]
        }
      ]
    },
    {
      "cell_type": "code",
      "source": [
        "work_folder = '/content/gdrive/MyDrive/Colab_UW_Madison/medical_image_uw_madison/'\n",
        "os.chdir(work_folder)\n",
        "print(\"checking git status (git fetch --dry-run):\")\n",
        "!pwd\n",
        "!git fetch --dry-run"
      ],
      "metadata": {
        "colab": {
          "base_uri": "https://localhost:8080/"
        },
        "id": "MwCx0MLb2a5w",
        "outputId": "7924976f-8e0c-4a99-b25b-acbd9b8789d7"
      },
      "execution_count": 5,
      "outputs": [
        {
          "output_type": "stream",
          "name": "stdout",
          "text": [
            "checking git status (git fetch --dry-run):\n",
            "/content/gdrive/MyDrive/Colab_UW_Madison/medical_image_uw_madison\n",
            "remote: Enumerating objects: 26, done.\u001b[K\n",
            "remote: Counting objects: 100% (26/26), done.\u001b[K\n",
            "remote: Compressing objects: 100% (24/24), done.\u001b[K\n",
            "remote: Total 24 (delta 15), reused 0 (delta 0), pack-reused 0\u001b[K\n",
            "Unpacking objects: 100% (24/24), 263.50 KiB | 125.00 KiB/s, done.\n",
            "From https://github.com/cwinsor/medical_image_uw_madison\n",
            "   18a51f5..17c6af9  main       -> origin/main\n"
          ]
        }
      ]
    },
    {
      "cell_type": "code",
      "source": [],
      "metadata": {
        "id": "oUaCqA3xgflS"
      },
      "execution_count": null,
      "outputs": []
    },
    {
      "cell_type": "markdown",
      "source": [
        "## Comparing ***os.getenv('PATH')*** to ***sys.path***\n",
        "* the former is path for the environment shell (applications)\n",
        "* the latter is the python search path for modules. Importantly it is constructed when Python *IS STARTED* and is:\n",
        "  * the folder of the python interpreter\n",
        "  * installation-dependent standard folders\n",
        "  * the contents of PYTHONPATH\n",
        "  \n",
        "in other words... updating PYTHONPATH won't help inside a jupyter notebook!\n"
      ],
      "metadata": {
        "id": "U-cUpb3JgiiG"
      }
    },
    {
      "cell_type": "code",
      "source": [
        "paths = os.getenv('PATH')\n",
        "for p in paths.split(\":\"):\n",
        "    print(p)"
      ],
      "metadata": {
        "id": "VdBM0XVWVkl6",
        "outputId": "d2130347-4a90-4e91-bfc9-2a03f129f713",
        "colab": {
          "base_uri": "https://localhost:8080/"
        }
      },
      "execution_count": 21,
      "outputs": [
        {
          "output_type": "stream",
          "name": "stdout",
          "text": [
            "/opt/bin\n",
            "/usr/local/nvidia/bin\n",
            "/usr/local/cuda/bin\n",
            "/usr/local/sbin\n",
            "/usr/local/bin\n",
            "/usr/sbin\n",
            "/usr/bin\n",
            "/sbin\n",
            "/bin\n",
            "/tools/node/bin\n",
            "/tools/google-cloud-sdk/bin\n"
          ]
        }
      ]
    },
    {
      "cell_type": "code",
      "source": [
        "for p in sys.path:\n",
        "    print(p)"
      ],
      "metadata": {
        "id": "B52hqywTX3Q1",
        "outputId": "f6886e43-b7cd-442f-95ed-ca1e59c245f9",
        "colab": {
          "base_uri": "https://localhost:8080/"
        }
      },
      "execution_count": 30,
      "outputs": [
        {
          "output_type": "stream",
          "name": "stdout",
          "text": [
            "/content\n",
            "/env/python\n",
            "/usr/lib/python310.zip\n",
            "/usr/lib/python3.10\n",
            "/usr/lib/python3.10/lib-dynload\n",
            "\n",
            "/usr/local/lib/python3.10/dist-packages\n",
            "/usr/lib/python3/dist-packages\n",
            "/usr/local/lib/python3.10/dist-packages/IPython/extensions\n",
            "/root/.ipython\n",
            "foo\n"
          ]
        }
      ]
    },
    {
      "cell_type": "code",
      "source": [
        "THE_FOLDER = \"foo\"\n",
        "# THE_FOLDER = os.getcwd()\n",
        "\n",
        "if THE_FOLDER in sys.path:\n",
        "    print(\"already exists\")\n",
        "else:\n",
        "    sys.path.append(THE_FOLDER)\n",
        "    print(\"added\")"
      ],
      "metadata": {
        "colab": {
          "base_uri": "https://localhost:8080/"
        },
        "id": "VuvTVyhISc2E",
        "outputId": "3dbf9c20-cc39-46e7-9971-45d1e8eac458"
      },
      "execution_count": 29,
      "outputs": [
        {
          "output_type": "stream",
          "name": "stdout",
          "text": [
            "already exists\n"
          ]
        }
      ]
    },
    {
      "cell_type": "markdown",
      "source": [
        "# PyTorch Distributed...\n",
        "\n",
        "https://pytorch.org/docs/stable/distributed.html\n",
        "\n",
        "    How to use this module:\n",
        "\n",
        "    Single-Node multi-process distributed training\n",
        "\n",
        "    python -m torch.distributed.launch --nproc-per-node=NUM_GPUS_YOU_HAVE\n",
        "            YOUR_TRAINING_SCRIPT.py (--arg1 --arg2 --arg3 and all other\n",
        "            arguments of your training script)\n",
        "\n",
        "    Multi-Node multi-process distributed training: (e.g. two nodes)\n",
        "\n",
        "    Node 1: (IP: 192.168.1.1, and has a free port: 1234)\n",
        "    python -m torch.distributed.launch --nproc-per-node=NUM_GPUS_YOU_HAVE\n",
        "            --nnodes=2 --node-rank=0 --master-addr=\"192.168.1.1\"\n",
        "            --master-port=1234 YOUR_TRAINING_SCRIPT.py (--arg1 --arg2 --arg3\n",
        "            and all other arguments of your training script)\n",
        "\n",
        "    Node 2:\n",
        "    python -m torch.distributed.launch --nproc-per-node=NUM_GPUS_YOU_HAVE\n",
        "            --nnodes=2 --node-rank=1 --master-addr=\"192.168.1.1\"\n",
        "            --master-port=1234 YOUR_TRAINING_SCRIPT.py (--arg1 --arg2 --arg3\n",
        "            and all other arguments of your training script)\n"
      ],
      "metadata": {
        "id": "T56srWVM7CGk"
      }
    },
    {
      "cell_type": "code",
      "source": [
        "# train classification\n",
        "CONFIG = 'work_configs/tract/final_solution/classification_configs/cls_1.py'\n",
        "NUM_GPUS_PER_NODE = 2\n",
        "MASTER_PORT = 1234\n",
        "\n",
        "python -m torch.distributed.launch --nproc_per_node=$GPUS --master_port=$PORT \\\n",
        "    $(dirname \"$0\")/train.py $CONFIG --launcher pytorch ${@:3}\n",
        "\n",
        "python -m torch.distributed.launch --nproc-per-node=NUM_GPUS_PER_NODE \\\n",
        "            train.py (--arg1 --arg2 --arg3 and all other\n",
        "            arguments of your training script)\n",
        "\n",
        "!"
      ],
      "metadata": {
        "id": "Iw9_r3StOe65"
      },
      "execution_count": null,
      "outputs": []
    },
    {
      "cell_type": "code",
      "source": [
        "# now... from bash shell (bottom left in colab notebook)\n",
        "# cd /content/gdrive/MyDrive/Colab_UW_Madison/medical_image_uw_madison/project\n",
        "# ./go_02_train.sh"
      ],
      "metadata": {
        "id": "dkQBtk0v10Ye"
      },
      "execution_count": 5,
      "outputs": []
    },
    {
      "cell_type": "code",
      "source": [],
      "metadata": {
        "id": "vKHTFJNG3dZA"
      },
      "execution_count": null,
      "outputs": []
    }
  ]
}