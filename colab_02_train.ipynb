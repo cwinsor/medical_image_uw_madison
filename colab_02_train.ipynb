{
  "nbformat": 4,
  "nbformat_minor": 0,
  "metadata": {
    "colab": {
      "provenance": [],
      "authorship_tag": "ABX9TyMrw1L/h0/ao3hQNRzZNZgE",
      "include_colab_link": true
    },
    "kernelspec": {
      "name": "python3",
      "display_name": "Python 3"
    },
    "language_info": {
      "name": "python"
    }
  },
  "cells": [
    {
      "cell_type": "markdown",
      "metadata": {
        "id": "view-in-github",
        "colab_type": "text"
      },
      "source": [
        "<a href=\"https://colab.research.google.com/github/cwinsor/medical_image_uw_madison/blob/main/colab_02_train.ipynb\" target=\"_parent\"><img src=\"https://colab.research.google.com/assets/colab-badge.svg\" alt=\"Open In Colab\"/></a>"
      ]
    },
    {
      "cell_type": "code",
      "source": [
        "import sys\n",
        "import os"
      ],
      "metadata": {
        "id": "kxzfyBT42MJu"
      },
      "execution_count": 6,
      "outputs": []
    },
    {
      "cell_type": "code",
      "execution_count": 3,
      "metadata": {
        "id": "PzixNp9Sr_BQ"
      },
      "outputs": [],
      "source": [
        "assert ('google.colab' in sys.modules), \"ERROR - the script expects to be run in Colab\""
      ]
    },
    {
      "cell_type": "code",
      "source": [
        "# we persist code, dataset and runs on google drive...\n",
        "from google.colab import drive\n",
        "drive.mount('/content/gdrive')"
      ],
      "metadata": {
        "colab": {
          "base_uri": "https://localhost:8080/"
        },
        "id": "kyNdABfE1ut3",
        "outputId": "4eb6dac9-3c50-4ba0-8df3-de32c381531b"
      },
      "execution_count": 4,
      "outputs": [
        {
          "output_type": "stream",
          "name": "stdout",
          "text": [
            "Mounted at /content/gdrive\n"
          ]
        }
      ]
    },
    {
      "cell_type": "code",
      "source": [
        "work_folder = '/content/gdrive/MyDrive/Colab_UW_Madison/medical_image_uw_madison/'\n",
        "os.chdir(work_folder)\n",
        "print(\"checking git status (git fetch --dry-run):\")\n",
        "!pwd\n",
        "!git fetch --dry-run"
      ],
      "metadata": {
        "colab": {
          "base_uri": "https://localhost:8080/"
        },
        "id": "MwCx0MLb2a5w",
        "outputId": "3a1a0bc5-cadf-4098-b41c-4fd86094e92a"
      },
      "execution_count": 7,
      "outputs": [
        {
          "output_type": "stream",
          "name": "stdout",
          "text": [
            "checking git status (git fetch --dry-run):\n",
            "/content/gdrive/MyDrive/Colab_UW_Madison/medical_image_uw_madison\n",
            "remote: Enumerating objects: 17, done.\u001b[K\n",
            "remote: Counting objects: 100% (17/17), done.\u001b[K\n",
            "remote: Compressing objects: 100% (15/15), done.\u001b[K\n",
            "remote: Total 15 (delta 10), reused 0 (delta 0), pack-reused 0\u001b[K\n",
            "Unpacking objects: 100% (15/15), 260.63 KiB | 314.00 KiB/s, done.\n",
            "From https://github.com/cwinsor/medical_image_uw_madison\n",
            "   18a51f5..80bc5d0  main       -> origin/main\n"
          ]
        }
      ]
    },
    {
      "cell_type": "code",
      "source": [
        "# now... from bash shell (bottom left in colab notebook)\n",
        "# cd /content/gdrive/MyDrive/Colab_UW_Madison/medical_image_uw_madison\n",
        "# ./go_02_train.sh"
      ],
      "metadata": {
        "id": "dkQBtk0v10Ye"
      },
      "execution_count": null,
      "outputs": []
    }
  ]
}