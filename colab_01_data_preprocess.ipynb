{
  "nbformat": 4,
  "nbformat_minor": 0,
  "metadata": {
    "colab": {
      "provenance": [],
      "authorship_tag": "ABX9TyNboYC8n21gPS7rOb7xesaT",
      "include_colab_link": true
    },
    "kernelspec": {
      "name": "python3",
      "display_name": "Python 3"
    },
    "language_info": {
      "name": "python"
    }
  },
  "cells": [
    {
      "cell_type": "markdown",
      "metadata": {
        "id": "view-in-github",
        "colab_type": "text"
      },
      "source": [
        "<a href=\"https://colab.research.google.com/github/cwinsor/medical_image_uw_madison/blob/main/colab_01_data_preprocess.ipynb\" target=\"_parent\"><img src=\"https://colab.research.google.com/assets/colab-badge.svg\" alt=\"Open In Colab\"/></a>"
      ]
    },
    {
      "cell_type": "markdown",
      "source": [
        "# Data Preprocessing\n",
        "This notebook runs data_preprocess.py"
      ],
      "metadata": {
        "id": "ssEm3cxfrqE5"
      }
    },
    {
      "cell_type": "code",
      "source": [
        "!pwd"
      ],
      "metadata": {
        "id": "bNrYiArh0FJc",
        "outputId": "338f79f5-e06b-4b48-f1a1-085d3e5b9a81",
        "colab": {
          "base_uri": "https://localhost:8080/"
        }
      },
      "execution_count": 15,
      "outputs": [
        {
          "output_type": "stream",
          "name": "stdout",
          "text": [
            "/content\n"
          ]
        }
      ]
    },
    {
      "cell_type": "code",
      "source": [
        "import sys\n",
        "import os\n",
        "from shutil import rmtree"
      ],
      "metadata": {
        "id": "5uaZfw_V2vtG"
      },
      "execution_count": 28,
      "outputs": []
    },
    {
      "cell_type": "code",
      "source": [
        "# !rm -rf medical_image_uw_madison\n",
        "# os.removedirs('medical_image_uw_madison')\n",
        "# if os.path.exists for\n",
        "if os.path.isdir('/content/medical_image_uw_madison'):\n",
        "    print('removing...')\n",
        "    rmtree('/content/medical_image_uw_madison')\n",
        "else:\n",
        "    print('not there')\n"
      ],
      "metadata": {
        "id": "3zYHYX5Uy9ku",
        "outputId": "3fe1a257-5a59-423a-9a74-e57142f95e09",
        "colab": {
          "base_uri": "https://localhost:8080/"
        }
      },
      "execution_count": 35,
      "outputs": [
        {
          "output_type": "stream",
          "name": "stdout",
          "text": [
            "not there\n"
          ]
        }
      ]
    },
    {
      "cell_type": "code",
      "source": [
        "\n",
        "if 'google.colab' in sys.modules:\n",
        "    print(\"host is colab\")\n",
        "    !git clone --quiet https://github.com/cwinsor/medical_image_uw_madison.git\n",
        "    os.chdir('/content/medical_image_uw_madison/')\n",
        "    print(os.getcwd())\n",
        "    print(os.listdir())\n",
        "    print(os.scandir())\n",
        "    # !ls -la\n",
        "    !git submodule update --init\n",
        "    # !cd /content\n",
        "    os.chdir('/content/')\n",
        "    sys.path.append('/content/medical_image_uw_madison/  ')\n",
        "else:\n",
        "    print(\"host is traditional server\")\n",
        "    assert False, \"not coded\""
      ],
      "metadata": {
        "colab": {
          "base_uri": "https://localhost:8080/"
        },
        "id": "MmLxpf4etCip",
        "outputId": "1733cedc-ad7a-46a9-c74b-f9eb9a6436e6"
      },
      "execution_count": null,
      "outputs": [
        {
          "output_type": "stream",
          "name": "stdout",
          "text": [
            "host is colab\n",
            "shell-init: error retrieving current directory: getcwd: cannot access parent directories: No such file or directory\n",
            "fatal: could not create work tree dir 'medical_image_uw_madison': No such file or directory\n"
          ]
        }
      ]
    },
    {
      "cell_type": "code",
      "execution_count": 5,
      "metadata": {
        "id": "xw7oQRW5pMJB"
      },
      "outputs": [],
      "source": [
        "import os\n",
        "import numpy as np\n",
        "import pandas as pd\n",
        "import cv2\n",
        "from PIL import Image\n",
        "import glob\n",
        "from tqdm.auto import tqdm\n",
        "import albumentations as A"
      ]
    },
    {
      "cell_type": "code",
      "source": [
        "# torch not needed for preprocessing...\n",
        "# import torch\n",
        "# print(torch.__version__);print(torch.version.cuda)"
      ],
      "metadata": {
        "id": "4TPVeJ_gxGw_"
      },
      "execution_count": 10,
      "outputs": []
    },
    {
      "cell_type": "code",
      "source": [
        "def rle_decode(mask_rle, shape):\n",
        "    s = np.array(mask_rle.split(), dtype=int)\n",
        "    starts, lengths = s[0::2] - 1, s[1::2]\n",
        "    ends = starts + lengths\n",
        "    h, w = shape\n",
        "    img = np.zeros((h * w,), dtype = np.uint8)\n",
        "    for lo, hi in zip(starts, ends):\n",
        "        img[lo : hi] = 1\n",
        "    return img.reshape(shape)\n",
        "\n",
        "def rle_encode(img):\n",
        "    pixels = img.flatten()\n",
        "    pixels = np.concatenate([[0], pixels, [0]])\n",
        "    runs = np.where(pixels[1:] != pixels[:-1])[0] + 1\n",
        "    runs[1::2] -= runs[::2]\n",
        "    return ' '.join(str(x) for x in runs)"
      ],
      "metadata": {
        "id": "00nUk7NtpZGC"
      },
      "execution_count": 6,
      "outputs": []
    },
    {
      "cell_type": "code",
      "source": [
        "os.chdir(\"./data/tract\")\n",
        "\n",
        "df_train = pd.read_csv(\"./train.csv\")\n",
        "df_train = df_train.sort_values([\"id\", \"class\"]).reset_index(drop = True)\n",
        "df_train[\"patient\"] = df_train.id.apply(lambda x: x.split(\"_\")[0])\n",
        "df_train[\"days\"] = df_train.id.apply(lambda x: \"_\".join(x.split(\"_\")[:2]))\n",
        "num_slices = len(np.unique(df_train.id))\n",
        "num_empty_slices = df_train.groupby(\"id\").apply(lambda x: x.segmentation.isna().all()).sum()\n",
        "num_patients = len(np.unique(df_train.patient))\n",
        "num_days = len(np.unique(df_train.days))\n",
        "print({\n",
        "    \"#slices:\": num_slices,\n",
        "    \"#empty slices:\": num_empty_slices,\n",
        "    \"#patients\": num_patients,\n",
        "    \"#days\": num_days\n",
        "})"
      ],
      "metadata": {
        "id": "DgxNmFh9pkYO"
      },
      "execution_count": null,
      "outputs": []
    }
  ]
}