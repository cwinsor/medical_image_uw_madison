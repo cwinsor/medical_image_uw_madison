{
  "nbformat": 4,
  "nbformat_minor": 0,
  "metadata": {
    "colab": {
      "provenance": [],
      "authorship_tag": "ABX9TyNhjY2c0Tun5ad6kXy46lw6",
      "include_colab_link": true
    },
    "kernelspec": {
      "name": "python3",
      "display_name": "Python 3"
    },
    "language_info": {
      "name": "python"
    }
  },
  "cells": [
    {
      "cell_type": "markdown",
      "metadata": {
        "id": "view-in-github",
        "colab_type": "text"
      },
      "source": [
        "<a href=\"https://colab.research.google.com/github/cwinsor/medical_image_uw_madison/blob/main/colab_01_data_preprocess.ipynb\" target=\"_parent\"><img src=\"https://colab.research.google.com/assets/colab-badge.svg\" alt=\"Open In Colab\"/></a>"
      ]
    },
    {
      "cell_type": "markdown",
      "source": [
        "# Data Preprocessing\n",
        "This notebook runs data_preprocess.py"
      ],
      "metadata": {
        "id": "ssEm3cxfrqE5"
      }
    },
    {
      "cell_type": "code",
      "source": [
        "import sys\n",
        "import os\n",
        "from shutil import rmtree"
      ],
      "metadata": {
        "id": "5uaZfw_V2vtG"
      },
      "execution_count": 1,
      "outputs": []
    },
    {
      "cell_type": "code",
      "source": [
        "git_url = 'https://github.com/cwinsor/medical_image_uw_madison.git'\n",
        "git_folder = '/content/medical_image_uw_madison'\n",
        "\n",
        "# populate the git and it's submodule\n",
        "if 'google.colab' in sys.modules:\n",
        "    print(\"host is colab\")\n",
        "    if os.path.isdir(git_folder):\n",
        "        rmtree(git_folder)\n",
        "        print('removed')\n",
        "    else:\n",
        "        print('no preexisting')\n",
        "    !git clone --quiet $git_url\n",
        "    os.chdir(git_folder)\n",
        "    # !ls -la\n",
        "    !git submodule update --init\n",
        "    os.chdir('/content/')\n",
        "    sys.path.append(git_folder)\n",
        "else:\n",
        "    print(\"host is traditional server\")\n",
        "    assert False, \"not coded\""
      ],
      "metadata": {
        "colab": {
          "base_uri": "https://localhost:8080/"
        },
        "id": "MmLxpf4etCip",
        "outputId": "9270fff1-4236-4698-f886-f0a9ba81996e"
      },
      "execution_count": 17,
      "outputs": [
        {
          "output_type": "stream",
          "name": "stdout",
          "text": [
            "host is colab\n",
            "removed\n",
            "Submodule 'project/Kaggle-UWMGIT' (https://github.com/CarnoZhao/Kaggle-UWMGIT) registered for path 'project/Kaggle-UWMGIT'\n",
            "Cloning into '/content/medical_image_uw_madison/project/Kaggle-UWMGIT'...\n",
            "Submodule path 'project/Kaggle-UWMGIT': checked out '91bc93fec8d25bed200a7ae7963c9738ac798353'\n"
          ]
        }
      ]
    },
    {
      "cell_type": "code",
      "execution_count": null,
      "metadata": {
        "id": "xw7oQRW5pMJB"
      },
      "outputs": [],
      "source": [
        "import os\n",
        "import numpy as np\n",
        "import pandas as pd\n",
        "import cv2\n",
        "from PIL import Image\n",
        "import glob\n",
        "from tqdm.auto import tqdm\n",
        "import albumentations as A"
      ]
    },
    {
      "cell_type": "code",
      "source": [
        "# torch not needed for preprocessing...\n",
        "# import torch\n",
        "# print(torch.__version__);print(torch.version.cuda)"
      ],
      "metadata": {
        "id": "4TPVeJ_gxGw_"
      },
      "execution_count": null,
      "outputs": []
    },
    {
      "cell_type": "code",
      "source": [
        "def rle_decode(mask_rle, shape):\n",
        "    s = np.array(mask_rle.split(), dtype=int)\n",
        "    starts, lengths = s[0::2] - 1, s[1::2]\n",
        "    ends = starts + lengths\n",
        "    h, w = shape\n",
        "    img = np.zeros((h * w,), dtype = np.uint8)\n",
        "    for lo, hi in zip(starts, ends):\n",
        "        img[lo : hi] = 1\n",
        "    return img.reshape(shape)\n",
        "\n",
        "def rle_encode(img):\n",
        "    pixels = img.flatten()\n",
        "    pixels = np.concatenate([[0], pixels, [0]])\n",
        "    runs = np.where(pixels[1:] != pixels[:-1])[0] + 1\n",
        "    runs[1::2] -= runs[::2]\n",
        "    return ' '.join(str(x) for x in runs)"
      ],
      "metadata": {
        "id": "00nUk7NtpZGC"
      },
      "execution_count": null,
      "outputs": []
    },
    {
      "cell_type": "code",
      "source": [
        "os.chdir(\"./data/tract\")\n",
        "\n",
        "df_train = pd.read_csv(\"./train.csv\")\n",
        "df_train = df_train.sort_values([\"id\", \"class\"]).reset_index(drop = True)\n",
        "df_train[\"patient\"] = df_train.id.apply(lambda x: x.split(\"_\")[0])\n",
        "df_train[\"days\"] = df_train.id.apply(lambda x: \"_\".join(x.split(\"_\")[:2]))\n",
        "num_slices = len(np.unique(df_train.id))\n",
        "num_empty_slices = df_train.groupby(\"id\").apply(lambda x: x.segmentation.isna().all()).sum()\n",
        "num_patients = len(np.unique(df_train.patient))\n",
        "num_days = len(np.unique(df_train.days))\n",
        "print({\n",
        "    \"#slices:\": num_slices,\n",
        "    \"#empty slices:\": num_empty_slices,\n",
        "    \"#patients\": num_patients,\n",
        "    \"#days\": num_days\n",
        "})"
      ],
      "metadata": {
        "id": "DgxNmFh9pkYO"
      },
      "execution_count": null,
      "outputs": []
    }
  ]
}